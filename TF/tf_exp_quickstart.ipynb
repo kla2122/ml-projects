{
 "cells": [
  {
   "cell_type": "code",
   "execution_count": 15,
   "metadata": {},
   "outputs": [
    {
     "name": "stdout",
     "output_type": "stream",
     "text": [
      "TensorFlow version: 2.6.0\n"
     ]
    }
   ],
   "source": [
    "import tensorflow as tf\n",
    "from tensorflow.keras import Model\n",
    "print(f\"TensorFlow version: {tf.__version__}\")"
   ]
  },
  {
   "cell_type": "code",
   "execution_count": 8,
   "metadata": {},
   "outputs": [],
   "source": [
    "# Load data\n",
    "mnist = tf.keras.datasets.mnist\n",
    "(x_train, y_train), (x_test, y_test) = mnist.load_data()\n",
    "\n",
    "# Convert to floating point numbers\n",
    "x_train, x_test = x_train / 255.0, x_test / 255.0\n",
    "\n",
    "# Add a channels dimension\n",
    "x_train = x_train[..., tf.newaxis].astype(\"float32\")\n",
    "x_test = x_test[..., tf.newaxis].astype(\"float32\")"
   ]
  },
  {
   "cell_type": "markdown",
   "metadata": {},
   "source": [
    "# tf.data.Datasets\n",
    "Datasets creates input pipeline from raw data like csv's to model-ready input, and can perform transformations like:\n",
    "\n",
    "- Shuffling: helps reduce variance, making sure the models remain general and don't overfit\n",
    "- Batching: by calculating SGD on a single batch you get a good estimate of the true gradient, saving computation time by not having to calculate the true gradient over the entire dataset every single time"
   ]
  },
  {
   "cell_type": "code",
   "execution_count": 14,
   "metadata": {},
   "outputs": [],
   "source": [
    "# Shuffle + Batch\n",
    "train_ds = tf.data.Dataset.from_tensor_slices(\n",
    "    (x_train, y_train)).shuffle(10000).batch(32)\n",
    "\n",
    "test_ds = tf.data.Dataset.from_tensor_slices((x_test, y_test)).batch(32)"
   ]
  },
  {
   "cell_type": "code",
   "execution_count": 16,
   "metadata": {},
   "outputs": [],
   "source": [
    "class MyModel(Model):\n",
    "    '''\n",
    "    An ANN model. Inherits from tf.Model\n",
    "    '''\n",
    "    def __init__(self):\n",
    "        '''\n",
    "        Define the layers that will be used\n",
    "        '''\n",
    "        super(MyModel, self).__init__()\n",
    "        self.conv1 = tf.keras.layers.Conv2D(32, 3, activation='relu')\n",
    "        self.flatten = tf.keras.layers.Flatten()\n",
    "        self.d1 = tf.keras.layers.Dense(128, activation='relu')\n",
    "        self.d2 = tf.keras.layers.Dense(10)\n",
    "    \n",
    "    def call(self, x):\n",
    "        '''\n",
    "        Model's forward pass. Can add optional training\n",
    "        argument (bool) to specify different behavior\n",
    "        in training versus inference (test)\n",
    "        '''\n",
    "        x = self.conv1(x)\n",
    "        x = self.flatten(x)\n",
    "        x = self.d1(x)\n",
    "        return self.d2(x)\n",
    "    \n",
    "# Create an instance of the model\n",
    "model = MyModel()\n",
    "\n",
    "# Choose optimizer and loss fn for training\n",
    "loss_object = tf.keras.losses.SparseCategoricalCrossentropy(from_logits=True)\n",
    "optimizer = tf.keras.optimizers.Adam()\n",
    "\n",
    "# Select metrics to measure the loss and accuracy of model\n",
    "train_loss = tf.keras.metrics.Mean(name='train_loss')\n",
    "train_accuracy = tf.keras.metrics.SparseCategoricalAccuracy(name='train_accuracy')\n",
    "\n",
    "test_loss = tf.keras.metrics.Mean(name='test_loss')\n",
    "test_accuracy = tf.keras.metrics.SparseCategoricalAccuracy(name='test_accuracy')"
   ]
  },
  {
   "cell_type": "markdown",
   "metadata": {},
   "source": [
    "# TF Methods\n",
    "- tf.function() compiles a function into a callable TensorFlow graph\n",
    "- tf.GradientTape() records operations for automatic differentiation onto a tape. Then use that tape to compute the gradients of a computation"
   ]
  },
  {
   "cell_type": "code",
   "execution_count": 20,
   "metadata": {},
   "outputs": [],
   "source": [
    "# Use tf.GradientTape to train model\n",
    "@tf.function # turns fn into tf graph\n",
    "def train_step(images, labels):\n",
    "    with tf.GradientTape() as tape:\n",
    "        # training=True only if layers with different\n",
    "        # behavior during training vs inference (e.g. Dropout)\n",
    "        predictions = model(images, training=True) # x\n",
    "        loss = loss_object(labels, predictions) # y = x^2\n",
    "    # tape.gradients(y, x) is deriv of y wrt x\n",
    "    gradients = tape.gradient(loss, model.trainable_variables) # dloss / dmodel\n",
    "    optimizer.apply_gradients(zip(gradients, model.trainable_variables))\n",
    "\n",
    "    train_loss(loss)\n",
    "    train_accuracy(labels, predictions)"
   ]
  },
  {
   "cell_type": "code",
   "execution_count": 22,
   "metadata": {},
   "outputs": [],
   "source": [
    "# Test the model\n",
    "@tf.function\n",
    "def test_step(images, labels):\n",
    "    # training=False only if layers with different\n",
    "    # behavior during training versus inference/test (e.g. Dropout)\n",
    "    predictions = model(images, training=False)\n",
    "    t_loss = loss_object(labels, predictions)\n",
    "\n",
    "    test_loss(t_loss)\n",
    "    test_accuracy(labels, predictions)"
   ]
  },
  {
   "cell_type": "code",
   "execution_count": 23,
   "metadata": {},
   "outputs": [
    {
     "name": "stderr",
     "output_type": "stream",
     "text": [
      "2021-12-27 13:37:12.694541: I tensorflow/compiler/mlir/mlir_graph_optimization_pass.cc:185] None of the MLIR Optimization Passes are enabled (registered 2)\n"
     ]
    },
    {
     "name": "stdout",
     "output_type": "stream",
     "text": [
      "Epoch 1, Loss: 0.13220779597759247, Accuracy: 96.0, Test Loss: 0.06056513264775276, Test Accuracy: 98.0999984741211\n",
      "Epoch 2, Loss: 0.04262334853410721, Accuracy: 98.69999694824219, Test Loss: 0.04791032895445824, Test Accuracy: 98.44999694824219\n",
      "Epoch 3, Loss: 0.021768298000097275, Accuracy: 99.2683334350586, Test Loss: 0.047774624079465866, Test Accuracy: 98.56999969482422\n",
      "Epoch 4, Loss: 0.014486235566437244, Accuracy: 99.5433349609375, Test Loss: 0.0531855933368206, Test Accuracy: 98.3699951171875\n",
      "Epoch 5, Loss: 0.008839472196996212, Accuracy: 99.69999694824219, Test Loss: 0.0542929470539093, Test Accuracy: 98.54999542236328\n"
     ]
    }
   ],
   "source": [
    "EPOCHS = 5\n",
    "\n",
    "for epoch in range(EPOCHS):\n",
    "  # Reset the metrics at the start of the next epoch\n",
    "  train_loss.reset_states()\n",
    "  train_accuracy.reset_states()\n",
    "  test_loss.reset_states()\n",
    "  test_accuracy.reset_states()\n",
    "\n",
    "  for images, labels in train_ds:\n",
    "    train_step(images, labels)\n",
    "\n",
    "  for test_images, test_labels in test_ds:\n",
    "    test_step(test_images, test_labels)\n",
    "\n",
    "  print(\n",
    "    f'Epoch {epoch + 1}, '\n",
    "    f'Loss: {train_loss.result()}, '\n",
    "    f'Accuracy: {train_accuracy.result() * 100}, '\n",
    "    f'Test Loss: {test_loss.result()}, '\n",
    "    f'Test Accuracy: {test_accuracy.result() * 100}'\n",
    "  )"
   ]
  }
 ],
 "metadata": {
  "interpreter": {
   "hash": "aee8b7b246df8f9039afb4144a1f6fd8d2ca17a180786b69acc140d282b71a49"
  },
  "kernelspec": {
   "display_name": "Python 3.7.5 64-bit",
   "language": "python",
   "name": "python3"
  },
  "language_info": {
   "codemirror_mode": {
    "name": "ipython",
    "version": 3
   },
   "file_extension": ".py",
   "mimetype": "text/x-python",
   "name": "python",
   "nbconvert_exporter": "python",
   "pygments_lexer": "ipython3",
   "version": "3.7.5"
  },
  "orig_nbformat": 4
 },
 "nbformat": 4,
 "nbformat_minor": 2
}
